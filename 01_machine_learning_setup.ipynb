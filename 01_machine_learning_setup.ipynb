{
 "cells": [
  {
   "cell_type": "markdown",
   "metadata": {},
   "source": [
    "## Using the Jupyter Notebook\n",
    "## Components:\n",
    "- IPython interpreter: enhanced version of the standard Python interpreter\n",
    "- Browser-based notebook interface: weave together code, formatted text, and plots\n",
    "\n",
    "### Installation:\n",
    "- Option 1: Install the Jupyter notebook (includes IPython)\n",
    "- Option 2: Included with the Anaconda distribution\n",
    "\n",
    "### Launching the Notebook:\n",
    "- Type jupyter notebook at the command line to open the dashboard\n",
    "- Don't close the command line window while the Notebook is running\n",
    "\n",
    "### Keyboard shortcuts:\n",
    "#### Command mode (gray border)\n",
    "\n",
    "- Create new cells above (a) or below (b) the current cell\n",
    "- Navigate using the up arrow and down arrow\n",
    "- Convert the cell type to Markdown (m) or code (y)\n",
    "- See keyboard shortcuts using h\n",
    "- Switch to Edit mode using Enter\n",
    "\n",
    "#### Edit mode (green border)\n",
    "- Ctrl+Enter to run a cell\n",
    "- Switch to Command mode using Esc\n",
    "\n",
    "### IPython, Jupyter, and Markdown resources:\n",
    "- nbviewer: view notebooks online as static documents\n",
    "- IPython documentation\n",
    "- Jupyter Notebook quickstart\n",
    "- GitHub's Mastering Markdown: short guide with lots of examples"
   ]
  },
  {
   "cell_type": "code",
   "execution_count": null,
   "metadata": {},
   "outputs": [],
   "source": []
  }
 ],
 "metadata": {
  "kernelspec": {
   "display_name": "Python 3",
   "language": "python",
   "name": "python3"
  },
  "language_info": {
   "codemirror_mode": {
    "name": "ipython",
    "version": 3
   },
   "file_extension": ".py",
   "mimetype": "text/x-python",
   "name": "python",
   "nbconvert_exporter": "python",
   "pygments_lexer": "ipython3",
   "version": "3.7.0"
  }
 },
 "nbformat": 4,
 "nbformat_minor": 2
}
